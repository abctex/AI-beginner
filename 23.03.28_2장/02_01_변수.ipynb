{
  "cells": [
    {
      "cell_type": "markdown",
      "metadata": {
        "id": "view-in-github",
        "colab_type": "text"
      },
      "source": [
        "<a href=\"https://colab.research.google.com/github/abctex/AI-beginner/blob/main/23.03.28_2%EC%9E%A5/02_01_%EB%B3%80%EC%88%98.ipynb\" target=\"_parent\"><img src=\"https://colab.research.google.com/assets/colab-badge.svg\" alt=\"Open In Colab\"/></a>"
      ]
    },
    {
      "cell_type": "markdown",
      "metadata": {
        "id": "7IF9xbpaYD2H"
      },
      "source": [
        "# 2.1.1 변수란 무엇일까요?\n",
        "\n",
        "변수는 바구니이다.\n",
        "\n",
        "`변수이름 = 데이터`"
      ]
    },
    {
      "cell_type": "code",
      "execution_count": 1,
      "metadata": {
        "id": "KvOcii3pYD2L",
        "outputId": "70c17639-cb64-4614-97a5-7550f5fab1b3",
        "colab": {
          "base_uri": "https://localhost:8080/"
        }
      },
      "outputs": [
        {
          "output_type": "execute_result",
          "data": {
            "text/plain": [
              "5"
            ]
          },
          "metadata": {},
          "execution_count": 1
        }
      ],
      "source": [
        "a = 5    # a라는 바구니에 값 5를 넣는다. [Enter]\n",
        "a         # a 안에 있는 값을 확인한다.     [▶Run 또는 Shift + Enter]"
      ]
    },
    {
      "cell_type": "code",
      "execution_count": 2,
      "metadata": {
        "id": "kdq0hhIOYD2N",
        "outputId": "846d5aa5-3f3b-4a47-b746-d2730a6602f5",
        "colab": {
          "base_uri": "https://localhost:8080/"
        }
      },
      "outputs": [
        {
          "output_type": "execute_result",
          "data": {
            "text/plain": [
              "3"
            ]
          },
          "metadata": {},
          "execution_count": 2
        }
      ],
      "source": [
        "b = 3    # b라는 바구니에 값 3을 넣는다. [Enter]\n",
        "b         # b 안에 있는 값을 확인한다.     [▶Run 또는 Shift + Enter]"
      ]
    },
    {
      "cell_type": "code",
      "execution_count": 3,
      "metadata": {
        "id": "SmPuVR1mYD2O",
        "outputId": "88fba61c-be25-4ac1-833b-56122ae3fb2b",
        "colab": {
          "base_uri": "https://localhost:8080/"
        }
      },
      "outputs": [
        {
          "output_type": "execute_result",
          "data": {
            "text/plain": [
              "8"
            ]
          },
          "metadata": {},
          "execution_count": 3
        }
      ],
      "source": [
        "a + b    # a 바구니에 있는 값과 b 바구니에 있는 값을 더한다.   [▶Run 또는 Shift + Enter]"
      ]
    },
    {
      "cell_type": "code",
      "execution_count": 4,
      "metadata": {
        "id": "z3hdiy4XYD2P",
        "outputId": "459e7476-f75c-4e5e-cda3-f5c32ebf5fb2",
        "colab": {
          "base_uri": "https://localhost:8080/",
          "height": 36
        }
      },
      "outputs": [
        {
          "output_type": "execute_result",
          "data": {
            "text/plain": [
              "'가나다'"
            ],
            "application/vnd.google.colaboratory.intrinsic+json": {
              "type": "string"
            }
          },
          "metadata": {},
          "execution_count": 4
        }
      ],
      "source": [
        "c = '가나다'\n",
        "c"
      ]
    },
    {
      "cell_type": "code",
      "execution_count": 5,
      "metadata": {
        "id": "gR__nUEQYD2P",
        "outputId": "9a810a3d-e2c4-47c8-87d6-4fb329afc62c",
        "colab": {
          "base_uri": "https://localhost:8080/"
        }
      },
      "outputs": [
        {
          "output_type": "execute_result",
          "data": {
            "text/plain": [
              "107.9"
            ]
          },
          "metadata": {},
          "execution_count": 5
        }
      ],
      "source": [
        "radio_freq = 107.9\n",
        "radio_freq"
      ]
    },
    {
      "cell_type": "markdown",
      "metadata": {
        "id": "SGMVd6rmYD2Q"
      },
      "source": [
        "# 2.1.2 변수 이름을 붙이는 규칙(1) \n",
        " - 꼭 지켜야 하는 규칙"
      ]
    },
    {
      "cell_type": "markdown",
      "source": [
        "**잘못된 변수명**\n",
        "- 숫자로 시작하는 변수\n",
        "- 공백이 포함된 변수\n",
        "- 기호가 포함된 변수(밑줄 제외)\n",
        "- 예약어\n"
      ],
      "metadata": {
        "id": "Q-cWhQr7YmWG"
      }
    },
    {
      "cell_type": "code",
      "execution_count": 6,
      "metadata": {
        "id": "e2f9fpmyYD2R",
        "outputId": "148f4872-adb1-494c-dd8c-981cc3250784",
        "colab": {
          "base_uri": "https://localhost:8080/",
          "height": 138
        }
      },
      "outputs": [
        {
          "output_type": "error",
          "ename": "SyntaxError",
          "evalue": "ignored",
          "traceback": [
            "\u001b[0;36m  File \u001b[0;32m\"<ipython-input-6-f08ab471a553>\"\u001b[0;36m, line \u001b[0;32m2\u001b[0m\n\u001b[0;31m    2var = \"행복\"\u001b[0m\n\u001b[0m     ^\u001b[0m\n\u001b[0;31mSyntaxError\u001b[0m\u001b[0;31m:\u001b[0m invalid syntax\n"
          ]
        }
      ],
      "source": [
        "# 잘못된 변수명: 숫자로 시작하는 변수\n",
        "2var = \"행복\""
      ]
    },
    {
      "cell_type": "code",
      "execution_count": 7,
      "metadata": {
        "id": "LT_wUXxFYD2R",
        "outputId": "51297989-d5b5-4810-b9ed-62d02b2c6a28",
        "colab": {
          "base_uri": "https://localhost:8080/",
          "height": 138
        }
      },
      "outputs": [
        {
          "output_type": "error",
          "ename": "SyntaxError",
          "evalue": "ignored",
          "traceback": [
            "\u001b[0;36m  File \u001b[0;32m\"<ipython-input-7-57ed49f07157>\"\u001b[0;36m, line \u001b[0;32m2\u001b[0m\n\u001b[0;31m    happy var = \"행복\"\u001b[0m\n\u001b[0m          ^\u001b[0m\n\u001b[0;31mSyntaxError\u001b[0m\u001b[0;31m:\u001b[0m invalid syntax\n"
          ]
        }
      ],
      "source": [
        "# 잘못된 변수명: 공백이 포함된 변수\n",
        "happy var = \"행복\""
      ]
    },
    {
      "cell_type": "markdown",
      "metadata": {
        "id": "l7K43tNkYD2S"
      },
      "source": [
        "-----\n",
        "<div class=\"alert alert-warning\">\n",
        "[Tip]  이렇게 변수 이름을 만들면 좋아요\n",
        "</div>"
      ]
    },
    {
      "cell_type": "code",
      "execution_count": null,
      "metadata": {
        "id": "NFqE4ORtYD2T"
      },
      "outputs": [],
      "source": [
        "# Camel Case\n",
        "happyVariable = \"행복\"\n",
        "# Snake Case\n",
        "happpy_variable = \"행복\""
      ]
    },
    {
      "cell_type": "code",
      "execution_count": null,
      "metadata": {
        "id": "gRQHsV2XYD2T"
      },
      "outputs": [],
      "source": [
        "# Hungarian notation\n",
        "bHappyVariable = True"
      ]
    },
    {
      "cell_type": "markdown",
      "metadata": {
        "id": "LMaEIR59YD2U"
      },
      "source": [
        "-------"
      ]
    },
    {
      "cell_type": "code",
      "execution_count": null,
      "metadata": {
        "id": "k9qO0d75YD2U",
        "outputId": "a071d8b4-25f1-4193-e4af-eeb52f72e37e"
      },
      "outputs": [
        {
          "ename": "SyntaxError",
          "evalue": "invalid syntax (<ipython-input-5-cbb9d68a6486>, line 2)",
          "output_type": "error",
          "traceback": [
            "\u001b[1;36m  File \u001b[1;32m\"<ipython-input-5-cbb9d68a6486>\"\u001b[1;36m, line \u001b[1;32m2\u001b[0m\n\u001b[1;33m    happyvar! = \"행복\"\u001b[0m\n\u001b[1;37m            ^\u001b[0m\n\u001b[1;31mSyntaxError\u001b[0m\u001b[1;31m:\u001b[0m invalid syntax\n"
          ]
        }
      ],
      "source": [
        "# 잘못된 변수명: 특수기호(!)가 포함된 변수\n",
        "happyvar! = \"행복\""
      ]
    },
    {
      "cell_type": "code",
      "execution_count": null,
      "metadata": {
        "id": "BZxcVPSpYD2V",
        "outputId": "b7b03188-96cb-4ecc-8311-d8564fe6b3d7"
      },
      "outputs": [
        {
          "ename": "SyntaxError",
          "evalue": "invalid syntax (<ipython-input-9-4ffb7deb5118>, line 2)",
          "output_type": "error",
          "traceback": [
            "\u001b[1;36m  File \u001b[1;32m\"<ipython-input-9-4ffb7deb5118>\"\u001b[1;36m, line \u001b[1;32m2\u001b[0m\n\u001b[1;33m    def = \"행복\"\u001b[0m\n\u001b[1;37m        ^\u001b[0m\n\u001b[1;31mSyntaxError\u001b[0m\u001b[1;31m:\u001b[0m invalid syntax\n"
          ]
        }
      ],
      "source": [
        "# 잘못된 변수명: 파이썬 예약어로 만든 변수\n",
        "def = \"행복\""
      ]
    },
    {
      "cell_type": "markdown",
      "metadata": {
        "id": "k3nNBYvMYD2V"
      },
      "source": [
        "# 2.1.3 변수 이름을 붙이는 규칙(2)\n",
        " - 에러는 발생하지 않지만 알아 두어야 하는 규칙"
      ]
    },
    {
      "cell_type": "markdown",
      "source": [
        "**파이썬 변수명 특징**\n",
        "- 대소문자 구분\n",
        "- 한 번에 여러 변수 선언 가능\n",
        "- 하나의 값을 여러 변수에 담을 수 있음\n"
      ],
      "metadata": {
        "id": "HGqhAC1TY1n6"
      }
    },
    {
      "cell_type": "markdown",
      "metadata": {
        "id": "rsmRlq0XYD2V"
      },
      "source": [
        "## ① 대소문자를 구분한다."
      ]
    },
    {
      "cell_type": "code",
      "execution_count": 8,
      "metadata": {
        "id": "Xsp1v5BWYD2V",
        "outputId": "f67041ca-dc63-4932-e425-9c17ba3ca310",
        "colab": {
          "base_uri": "https://localhost:8080/"
        }
      },
      "outputs": [
        {
          "output_type": "execute_result",
          "data": {
            "text/plain": [
              "5"
            ]
          },
          "metadata": {},
          "execution_count": 8
        }
      ],
      "source": [
        "abc = 5\n",
        "abc"
      ]
    },
    {
      "cell_type": "code",
      "execution_count": 9,
      "metadata": {
        "id": "gpww3SibYD2W",
        "outputId": "df456b6a-e106-4ebb-948a-9c7100cfb487",
        "colab": {
          "base_uri": "https://localhost:8080/",
          "height": 36
        }
      },
      "outputs": [
        {
          "output_type": "execute_result",
          "data": {
            "text/plain": [
              "'Apple'"
            ],
            "application/vnd.google.colaboratory.intrinsic+json": {
              "type": "string"
            }
          },
          "metadata": {},
          "execution_count": 9
        }
      ],
      "source": [
        "ABC = \"Apple\"\n",
        "ABC"
      ]
    },
    {
      "cell_type": "markdown",
      "metadata": {
        "id": "W3JKF-3iYD2W"
      },
      "source": [
        "## ② 한 번에 여러 변수를 선언할 수 있다."
      ]
    },
    {
      "cell_type": "code",
      "execution_count": 10,
      "metadata": {
        "id": "_RODr0-DYD2W"
      },
      "outputs": [],
      "source": [
        "x, y, z = \"Apple\", \"Banana\", \"Carrot\""
      ]
    },
    {
      "cell_type": "code",
      "execution_count": 11,
      "metadata": {
        "id": "j97eTc_SYD2W",
        "outputId": "79ebdf0b-25e2-4c58-ccd4-7be2bab3ac71",
        "colab": {
          "base_uri": "https://localhost:8080/",
          "height": 36
        }
      },
      "outputs": [
        {
          "output_type": "execute_result",
          "data": {
            "text/plain": [
              "'Apple'"
            ],
            "application/vnd.google.colaboratory.intrinsic+json": {
              "type": "string"
            }
          },
          "metadata": {},
          "execution_count": 11
        }
      ],
      "source": [
        "x"
      ]
    },
    {
      "cell_type": "code",
      "execution_count": 12,
      "metadata": {
        "id": "9SflzDAjYD2X",
        "outputId": "dc39eaa0-5650-4e10-fe32-a0a2fc3f61c6",
        "colab": {
          "base_uri": "https://localhost:8080/",
          "height": 36
        }
      },
      "outputs": [
        {
          "output_type": "execute_result",
          "data": {
            "text/plain": [
              "'Banana'"
            ],
            "application/vnd.google.colaboratory.intrinsic+json": {
              "type": "string"
            }
          },
          "metadata": {},
          "execution_count": 12
        }
      ],
      "source": [
        "y"
      ]
    },
    {
      "cell_type": "code",
      "execution_count": 13,
      "metadata": {
        "id": "YWGMixN6YD2X",
        "outputId": "82b6c0b8-e11b-4a34-98d2-b1394dcfac02",
        "colab": {
          "base_uri": "https://localhost:8080/",
          "height": 36
        }
      },
      "outputs": [
        {
          "output_type": "execute_result",
          "data": {
            "text/plain": [
              "'Carrot'"
            ],
            "application/vnd.google.colaboratory.intrinsic+json": {
              "type": "string"
            }
          },
          "metadata": {},
          "execution_count": 13
        }
      ],
      "source": [
        "z"
      ]
    },
    {
      "cell_type": "code",
      "execution_count": 14,
      "metadata": {
        "id": "1osy-pqwYD2X",
        "outputId": "d8da01e6-4f20-4540-99d0-86bd1a6f185a",
        "colab": {
          "base_uri": "https://localhost:8080/",
          "height": 36
        }
      },
      "outputs": [
        {
          "output_type": "execute_result",
          "data": {
            "text/plain": [
              "'Not Use'"
            ],
            "application/vnd.google.colaboratory.intrinsic+json": {
              "type": "string"
            }
          },
          "metadata": {},
          "execution_count": 14
        }
      ],
      "source": [
        "_, var = \"Not Use\", \"Use\"\n",
        "_"
      ]
    },
    {
      "cell_type": "code",
      "execution_count": null,
      "metadata": {
        "id": "oQblffLjYD2X",
        "outputId": "7ece33df-70ed-4441-b81e-4bddd1b522a6"
      },
      "outputs": [
        {
          "data": {
            "text/plain": [
              "'Use'"
            ]
          },
          "execution_count": 18,
          "metadata": {},
          "output_type": "execute_result"
        }
      ],
      "source": [
        "var"
      ]
    },
    {
      "cell_type": "markdown",
      "metadata": {
        "id": "sNgdX-K0YD2X"
      },
      "source": [
        "## ③ 하나의 값을 여러 변수에 담을 수 있다."
      ]
    },
    {
      "cell_type": "code",
      "execution_count": 15,
      "metadata": {
        "id": "gTaEJNNpYD2Y",
        "outputId": "19affbd8-123e-4b97-a726-a14f3afbde0b",
        "colab": {
          "base_uri": "https://localhost:8080/",
          "height": 36
        }
      },
      "outputs": [
        {
          "output_type": "execute_result",
          "data": {
            "text/plain": [
              "'Dog'"
            ],
            "application/vnd.google.colaboratory.intrinsic+json": {
              "type": "string"
            }
          },
          "metadata": {},
          "execution_count": 15
        }
      ],
      "source": [
        "x = y = z = \"Dog\"\n",
        "x"
      ]
    },
    {
      "cell_type": "code",
      "execution_count": 16,
      "metadata": {
        "id": "yBWSEv21YD2Y",
        "outputId": "e4469410-6ea1-4e20-cf9e-c329fe58d421",
        "colab": {
          "base_uri": "https://localhost:8080/",
          "height": 36
        }
      },
      "outputs": [
        {
          "output_type": "execute_result",
          "data": {
            "text/plain": [
              "'Dog'"
            ],
            "application/vnd.google.colaboratory.intrinsic+json": {
              "type": "string"
            }
          },
          "metadata": {},
          "execution_count": 16
        }
      ],
      "source": [
        "y"
      ]
    },
    {
      "cell_type": "code",
      "execution_count": 17,
      "metadata": {
        "id": "7WeNGVq-YD2Y",
        "outputId": "65af5a74-0223-446e-a2f4-9ac5614066c7",
        "colab": {
          "base_uri": "https://localhost:8080/",
          "height": 36
        }
      },
      "outputs": [
        {
          "output_type": "execute_result",
          "data": {
            "text/plain": [
              "'Dog'"
            ],
            "application/vnd.google.colaboratory.intrinsic+json": {
              "type": "string"
            }
          },
          "metadata": {},
          "execution_count": 17
        }
      ],
      "source": [
        "z"
      ]
    }
  ],
  "metadata": {
    "kernelspec": {
      "display_name": "Python 3",
      "language": "python",
      "name": "python3"
    },
    "language_info": {
      "codemirror_mode": {
        "name": "ipython",
        "version": 3
      },
      "file_extension": ".py",
      "mimetype": "text/x-python",
      "name": "python",
      "nbconvert_exporter": "python",
      "pygments_lexer": "ipython3",
      "version": "3.8.5"
    },
    "toc": {
      "base_numbering": 1,
      "nav_menu": {},
      "number_sections": false,
      "sideBar": true,
      "skip_h1_title": false,
      "title_cell": "Table of Contents",
      "title_sidebar": "Contents",
      "toc_cell": false,
      "toc_position": {},
      "toc_section_display": true,
      "toc_window_display": false
    },
    "colab": {
      "provenance": [],
      "toc_visible": true,
      "include_colab_link": true
    }
  },
  "nbformat": 4,
  "nbformat_minor": 0
}