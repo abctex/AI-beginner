{
  "cells": [
    {
      "cell_type": "markdown",
      "metadata": {
        "id": "view-in-github",
        "colab_type": "text"
      },
      "source": [
        "<a href=\"https://colab.research.google.com/github/abctex/AI-beginner/blob/main/23.03.28_2%EC%9E%A5/02_02_%EC%9E%90%EB%A3%8C%ED%98%95(1).ipynb\" target=\"_parent\"><img src=\"https://colab.research.google.com/assets/colab-badge.svg\" alt=\"Open In Colab\"/></a>"
      ]
    },
    {
      "cell_type": "markdown",
      "metadata": {
        "id": "6JBhoBgFa1Lj"
      },
      "source": [
        "# 2.2.1 기본 데이터 타입"
      ]
    },
    {
      "cell_type": "markdown",
      "source": [
        "**type(변수이름)**\n",
        "\n",
        "- 변수의 자료형을 반환하는 함수\n",
        "<br><br>\n",
        "\n",
        "**파이썬의 기본 자료형**\n",
        "\n",
        "- 숫자(numeric): 정수(integer), 실수(float)\n",
        "- 불리언(boolean): True, False\n",
        "- 문자형(String)"
      ],
      "metadata": {
        "id": "z4rzt8LObPOo"
      }
    },
    {
      "cell_type": "markdown",
      "metadata": {
        "id": "iDWCo7iba1Lm"
      },
      "source": [
        "## ① 숫자형(numeric)\n",
        " 정수(integer), 실수(float)"
      ]
    },
    {
      "cell_type": "code",
      "execution_count": 1,
      "metadata": {
        "colab": {
          "base_uri": "https://localhost:8080/"
        },
        "id": "lcFf0IZ0a1Ln",
        "outputId": "a778195e-0913-4d75-9677-db1cecdcff6c"
      },
      "outputs": [
        {
          "output_type": "execute_result",
          "data": {
            "text/plain": [
              "int"
            ]
          },
          "metadata": {},
          "execution_count": 1
        }
      ],
      "source": [
        "x, y, z = 10, 3.14, -25\n",
        "type(x)"
      ]
    },
    {
      "cell_type": "code",
      "execution_count": 2,
      "metadata": {
        "colab": {
          "base_uri": "https://localhost:8080/"
        },
        "id": "zhGWv9D1a1Lp",
        "outputId": "d5c73924-4960-492c-a0fe-0459eee4d399"
      },
      "outputs": [
        {
          "output_type": "execute_result",
          "data": {
            "text/plain": [
              "float"
            ]
          },
          "metadata": {},
          "execution_count": 2
        }
      ],
      "source": [
        "type(y)"
      ]
    },
    {
      "cell_type": "code",
      "execution_count": 3,
      "metadata": {
        "colab": {
          "base_uri": "https://localhost:8080/"
        },
        "id": "ucOC6Qgxa1Lp",
        "outputId": "07c3c2ca-63c8-4069-9aef-d71ea0e3b2c0"
      },
      "outputs": [
        {
          "output_type": "execute_result",
          "data": {
            "text/plain": [
              "int"
            ]
          },
          "metadata": {},
          "execution_count": 3
        }
      ],
      "source": [
        "type(z)"
      ]
    },
    {
      "cell_type": "code",
      "execution_count": 4,
      "metadata": {
        "colab": {
          "base_uri": "https://localhost:8080/"
        },
        "id": "LxG5U-X3a1Lq",
        "outputId": "25cd8bf3-5aee-42b8-ccf7-f7645698ee13"
      },
      "outputs": [
        {
          "output_type": "execute_result",
          "data": {
            "text/plain": [
              "17000.0"
            ]
          },
          "metadata": {},
          "execution_count": 4
        }
      ],
      "source": [
        "a = 17e3\n",
        "a"
      ]
    },
    {
      "cell_type": "code",
      "execution_count": 5,
      "metadata": {
        "colab": {
          "base_uri": "https://localhost:8080/"
        },
        "id": "m7mYMfKba1Lq",
        "outputId": "1e50b50a-d876-411b-e4e0-cf566dcf4114"
      },
      "outputs": [
        {
          "output_type": "execute_result",
          "data": {
            "text/plain": [
              "17000.0"
            ]
          },
          "metadata": {},
          "execution_count": 5
        }
      ],
      "source": [
        "b = 17E3 #대문자 E를 사용 할 수도 있습니다.\n",
        "b"
      ]
    },
    {
      "cell_type": "code",
      "execution_count": 6,
      "metadata": {
        "colab": {
          "base_uri": "https://localhost:8080/"
        },
        "id": "WpTxbp2Ua1Lq",
        "outputId": "7f5d68b8-9135-4ee7-dfed-19c518556580"
      },
      "outputs": [
        {
          "output_type": "execute_result",
          "data": {
            "text/plain": [
              "-3520.0"
            ]
          },
          "metadata": {},
          "execution_count": 6
        }
      ],
      "source": [
        "c = -35.2e2\n",
        "c"
      ]
    },
    {
      "cell_type": "code",
      "execution_count": 7,
      "metadata": {
        "colab": {
          "base_uri": "https://localhost:8080/"
        },
        "id": "jMuLQ7Saa1Lr",
        "outputId": "ce4a33bc-ffd5-414b-f3fc-0b27142de9d4"
      },
      "outputs": [
        {
          "output_type": "execute_result",
          "data": {
            "text/plain": [
              "2.75"
            ]
          },
          "metadata": {},
          "execution_count": 7
        }
      ],
      "source": [
        "d = 275e-2\n",
        "d"
      ]
    },
    {
      "cell_type": "markdown",
      "metadata": {
        "id": "hg0emplra1Lr"
      },
      "source": [
        "## ② 불리언(boolean)\n",
        "참(True)/거짓(False)"
      ]
    },
    {
      "cell_type": "code",
      "execution_count": 8,
      "metadata": {
        "colab": {
          "base_uri": "https://localhost:8080/"
        },
        "id": "ADXaOwRZa1Lr",
        "outputId": "6cdae06b-c439-48b7-cc9d-38a676a24be8"
      },
      "outputs": [
        {
          "output_type": "execute_result",
          "data": {
            "text/plain": [
              "True"
            ]
          },
          "metadata": {},
          "execution_count": 8
        }
      ],
      "source": [
        "a = 100 > 50\n",
        "a"
      ]
    },
    {
      "cell_type": "code",
      "execution_count": 9,
      "metadata": {
        "colab": {
          "base_uri": "https://localhost:8080/"
        },
        "id": "G8vH3Lema1Lr",
        "outputId": "ceb51e1a-d90a-46e8-a273-b19de8427340"
      },
      "outputs": [
        {
          "output_type": "execute_result",
          "data": {
            "text/plain": [
              "False"
            ]
          },
          "metadata": {},
          "execution_count": 9
        }
      ],
      "source": [
        "b = 100 < 50\n",
        "b"
      ]
    },
    {
      "cell_type": "code",
      "execution_count": 10,
      "metadata": {
        "colab": {
          "base_uri": "https://localhost:8080/"
        },
        "id": "LjfVlzVja1Ls",
        "outputId": "4ed4916c-0fa3-4726-bfe8-c2ff904b14bb"
      },
      "outputs": [
        {
          "output_type": "execute_result",
          "data": {
            "text/plain": [
              "False"
            ]
          },
          "metadata": {},
          "execution_count": 10
        }
      ],
      "source": [
        "c = 100 == 50 # 등호 두 개(==)는 좌측의 값과 우측의 값이 같은지 아닌지를 판단하는 조건식\n",
        "c"
      ]
    },
    {
      "cell_type": "code",
      "execution_count": 11,
      "metadata": {
        "colab": {
          "base_uri": "https://localhost:8080/"
        },
        "id": "4G4n0-8Ca1Ls",
        "outputId": "a0670a38-438a-4722-cde8-26e94ecb083a"
      },
      "outputs": [
        {
          "output_type": "execute_result",
          "data": {
            "text/plain": [
              "bool"
            ]
          },
          "metadata": {},
          "execution_count": 11
        }
      ],
      "source": [
        "type(c)"
      ]
    },
    {
      "cell_type": "markdown",
      "metadata": {
        "id": "qFtUROg4a1Ls"
      },
      "source": [
        "## ③ 문자형(string, str) "
      ]
    },
    {
      "cell_type": "code",
      "execution_count": 12,
      "metadata": {
        "colab": {
          "base_uri": "https://localhost:8080/"
        },
        "id": "R7DE1KOza1Ls",
        "outputId": "5f8f18f0-fa3b-432f-8cbc-7f295b077b37"
      },
      "outputs": [
        {
          "output_type": "execute_result",
          "data": {
            "text/plain": [
              "str"
            ]
          },
          "metadata": {},
          "execution_count": 12
        }
      ],
      "source": [
        "# 따옴표로 감싼 문자, 'Hello'와 \"Hello\"는 동일\n",
        "a = 'Hello'\n",
        "type(a)"
      ]
    },
    {
      "cell_type": "code",
      "execution_count": 13,
      "metadata": {
        "colab": {
          "base_uri": "https://localhost:8080/"
        },
        "id": "8ymj3f_ta1Ls",
        "outputId": "01bd40af-a335-4b8c-8d2e-d6cf0cee88b4"
      },
      "outputs": [
        {
          "output_type": "execute_result",
          "data": {
            "text/plain": [
              "str"
            ]
          },
          "metadata": {},
          "execution_count": 13
        }
      ],
      "source": [
        "# 따옴표로 감싼 숫자는 문자\n",
        "b = '123'\n",
        "type(b)"
      ]
    },
    {
      "cell_type": "code",
      "execution_count": 14,
      "metadata": {
        "colab": {
          "base_uri": "https://localhost:8080/"
        },
        "id": "xKJxSW5Ca1Lt",
        "outputId": "97af0f45-66a9-4426-f87d-8baa90281662"
      },
      "outputs": [
        {
          "output_type": "execute_result",
          "data": {
            "text/plain": [
              "str"
            ]
          },
          "metadata": {},
          "execution_count": 14
        }
      ],
      "source": [
        "# 띄어쓰기가 포함된 문자열\n",
        "c = \"How are you?\"\n",
        "type(c)"
      ]
    },
    {
      "cell_type": "markdown",
      "source": [
        "여러 줄로 이루어진 문자열은 따옴표를 세 개 연달아 이어서(`\"\"\" \"\"\"`) 선언합니다. "
      ],
      "metadata": {
        "id": "kWHeXtKScZMI"
      }
    },
    {
      "cell_type": "code",
      "execution_count": 15,
      "metadata": {
        "colab": {
          "base_uri": "https://localhost:8080/",
          "height": 138
        },
        "id": "MEk5Up-Sa1Lt",
        "outputId": "bf9e2664-c7a1-4f4f-fda9-15fcc0a7dd1b"
      },
      "outputs": [
        {
          "output_type": "error",
          "ename": "SyntaxError",
          "evalue": "ignored",
          "traceback": [
            "\u001b[0;36m  File \u001b[0;32m\"<ipython-input-15-1ed65e62d316>\"\u001b[0;36m, line \u001b[0;32m1\u001b[0m\n\u001b[0;31m    x = \"Twinkle, twinkle, little star,\u001b[0m\n\u001b[0m                                       ^\u001b[0m\n\u001b[0;31mSyntaxError\u001b[0m\u001b[0;31m:\u001b[0m EOL while scanning string literal\n"
          ]
        }
      ],
      "source": [
        "x = \"Twinkle, twinkle, little star,\n",
        "How I wonder what you are!\n",
        "Up above the world so high,\n",
        "Like a diamond in the sky.\"\n",
        "x"
      ]
    },
    {
      "cell_type": "code",
      "execution_count": 16,
      "metadata": {
        "colab": {
          "base_uri": "https://localhost:8080/",
          "height": 36
        },
        "id": "u8gAQKSFa1Lt",
        "outputId": "75cab1af-2955-4556-ee57-aee6dad234c1"
      },
      "outputs": [
        {
          "output_type": "execute_result",
          "data": {
            "text/plain": [
              "'Twinkle, twinkle, little star,\\nHow I wonder what you are!\\nUp above the world so high,\\nLike a diamond in the sky.'"
            ],
            "application/vnd.google.colaboratory.intrinsic+json": {
              "type": "string"
            }
          },
          "metadata": {},
          "execution_count": 16
        }
      ],
      "source": [
        "x = \"\"\"Twinkle, twinkle, little star,\n",
        "How I wonder what you are!\n",
        "Up above the world so high,\n",
        "Like a diamond in the sky.\"\"\"\n",
        "x"
      ]
    },
    {
      "cell_type": "markdown",
      "source": [
        "문자열 안에 따옴표가 들어간다면? `'`와 `\"`를 번갈아서 사용해보세요."
      ],
      "metadata": {
        "id": "IaCpd2fpcmtM"
      }
    },
    {
      "cell_type": "code",
      "execution_count": 17,
      "metadata": {
        "colab": {
          "base_uri": "https://localhost:8080/",
          "height": 138
        },
        "id": "nPBu28wVa1Lt",
        "outputId": "24772780-cc58-4eee-caa2-ae7cb36d526c"
      },
      "outputs": [
        {
          "output_type": "error",
          "ename": "SyntaxError",
          "evalue": "ignored",
          "traceback": [
            "\u001b[0;36m  File \u001b[0;32m\"<ipython-input-17-4275bbce3138>\"\u001b[0;36m, line \u001b[0;32m1\u001b[0m\n\u001b[0;31m    y = \"He said, \"I love you.\"\"\u001b[0m\n\u001b[0m                   ^\u001b[0m\n\u001b[0;31mSyntaxError\u001b[0m\u001b[0;31m:\u001b[0m invalid syntax\n"
          ]
        }
      ],
      "source": [
        "y = \"He said, \"I love you.\"\"\n",
        "y"
      ]
    },
    {
      "cell_type": "code",
      "execution_count": 18,
      "metadata": {
        "colab": {
          "base_uri": "https://localhost:8080/",
          "height": 36
        },
        "id": "8WMgj9vCa1Lt",
        "outputId": "2e4b57f8-09c1-404b-b32f-0e7b8577ba8e"
      },
      "outputs": [
        {
          "output_type": "execute_result",
          "data": {
            "text/plain": [
              "'He said, \"I love you.\"'"
            ],
            "application/vnd.google.colaboratory.intrinsic+json": {
              "type": "string"
            }
          },
          "metadata": {},
          "execution_count": 18
        }
      ],
      "source": [
        "y = 'He said, \"I love you.\"'\n",
        "y"
      ]
    },
    {
      "cell_type": "code",
      "execution_count": 19,
      "metadata": {
        "colab": {
          "base_uri": "https://localhost:8080/",
          "height": 36
        },
        "id": "W6NP9BXxa1Lt",
        "outputId": "3c91b03c-d70a-418e-c8cc-a4fcc26dceee"
      },
      "outputs": [
        {
          "output_type": "execute_result",
          "data": {
            "text/plain": [
              "'He said, \"I love you.\"'"
            ],
            "application/vnd.google.colaboratory.intrinsic+json": {
              "type": "string"
            }
          },
          "metadata": {},
          "execution_count": 19
        }
      ],
      "source": [
        "y = \"He said, \\\"I love you.\\\"\"\n",
        "y"
      ]
    },
    {
      "cell_type": "markdown",
      "metadata": {
        "id": "rvhoXKZYa1Lu"
      },
      "source": [
        "# 2.2.2 데이터 타입의 형 변환"
      ]
    },
    {
      "cell_type": "markdown",
      "source": [
        "- int(): 정수형으로 변환\n",
        "- float(): 실수형으로 변환\n",
        "- bool(): 불리언형으로 변환\n",
        "- str(): 문자열로 변환"
      ],
      "metadata": {
        "id": "5-8GTaxzb3mJ"
      }
    },
    {
      "cell_type": "code",
      "execution_count": 20,
      "metadata": {
        "colab": {
          "base_uri": "https://localhost:8080/",
          "height": 36
        },
        "id": "XbqbB2mta1Lu",
        "outputId": "326f8904-8b3e-41eb-96c0-6dc3e8ab89d7"
      },
      "outputs": [
        {
          "output_type": "execute_result",
          "data": {
            "text/plain": [
              "'2050'"
            ],
            "application/vnd.google.colaboratory.intrinsic+json": {
              "type": "string"
            }
          },
          "metadata": {},
          "execution_count": 20
        }
      ],
      "source": [
        "temperature = '20'\n",
        "humidity = '50'\n",
        "\n",
        "temperature + humidity"
      ]
    },
    {
      "cell_type": "code",
      "execution_count": 21,
      "metadata": {
        "colab": {
          "base_uri": "https://localhost:8080/"
        },
        "id": "SgZKhTVTa1Lu",
        "outputId": "10640195-cb15-4bcd-e578-f61f3d7763e1"
      },
      "outputs": [
        {
          "output_type": "execute_result",
          "data": {
            "text/plain": [
              "70"
            ]
          },
          "metadata": {},
          "execution_count": 21
        }
      ],
      "source": [
        "int(temperature) + int(humidity)"
      ]
    },
    {
      "cell_type": "code",
      "execution_count": 22,
      "metadata": {
        "id": "MjgNhn-ra1Lu"
      },
      "outputs": [],
      "source": [
        "a = 0\n",
        "b = 500\n",
        "c = ''\n",
        "d = '하하호호'"
      ]
    },
    {
      "cell_type": "code",
      "execution_count": 23,
      "metadata": {
        "colab": {
          "base_uri": "https://localhost:8080/"
        },
        "id": "GG_OxIFla1Lu",
        "outputId": "6cb8e846-f078-4e63-c77d-9fa021b42882"
      },
      "outputs": [
        {
          "output_type": "execute_result",
          "data": {
            "text/plain": [
              "False"
            ]
          },
          "metadata": {},
          "execution_count": 23
        }
      ],
      "source": [
        "bool(a)"
      ]
    },
    {
      "cell_type": "code",
      "execution_count": 24,
      "metadata": {
        "colab": {
          "base_uri": "https://localhost:8080/"
        },
        "id": "MqDrYe8da1Lu",
        "outputId": "86fd1428-0b75-4ae7-d669-cd8dad9b8c7b"
      },
      "outputs": [
        {
          "output_type": "execute_result",
          "data": {
            "text/plain": [
              "True"
            ]
          },
          "metadata": {},
          "execution_count": 24
        }
      ],
      "source": [
        "bool(b)"
      ]
    },
    {
      "cell_type": "code",
      "execution_count": 25,
      "metadata": {
        "colab": {
          "base_uri": "https://localhost:8080/"
        },
        "id": "naWVGNwAa1Lu",
        "outputId": "4dde1e39-ca37-4e27-dc4a-c01eb9152508"
      },
      "outputs": [
        {
          "output_type": "execute_result",
          "data": {
            "text/plain": [
              "False"
            ]
          },
          "metadata": {},
          "execution_count": 25
        }
      ],
      "source": [
        "bool(c)"
      ]
    },
    {
      "cell_type": "code",
      "execution_count": 26,
      "metadata": {
        "colab": {
          "base_uri": "https://localhost:8080/"
        },
        "id": "6hp4Xegna1Lv",
        "outputId": "44761b98-0802-4f36-b0e3-7c18307fc95d"
      },
      "outputs": [
        {
          "output_type": "execute_result",
          "data": {
            "text/plain": [
              "True"
            ]
          },
          "metadata": {},
          "execution_count": 26
        }
      ],
      "source": [
        "bool(d)"
      ]
    },
    {
      "cell_type": "markdown",
      "metadata": {
        "id": "7r5zgcAsa1Lv"
      },
      "source": [
        "# (참고)\n",
        "\n",
        "다음 데이터 형변환의 결과가 어떻게 될지 예상해 보세요"
      ]
    },
    {
      "cell_type": "code",
      "execution_count": 27,
      "metadata": {
        "id": "7TwPXRHSa1Lv"
      },
      "outputs": [],
      "source": [
        "# int() 형변환\n",
        "x = int(100)\n",
        "y = int(29.8)\n",
        "z = int(\"50\")"
      ]
    },
    {
      "cell_type": "code",
      "execution_count": 28,
      "metadata": {
        "id": "uqrKNQCAa1Lv"
      },
      "outputs": [],
      "source": [
        "# float() 형변환\n",
        "a = float(100)\n",
        "b = float(29.8)\n",
        "c = float(\"50\")\n",
        "d = float(\"3.14\")"
      ]
    },
    {
      "cell_type": "code",
      "execution_count": 29,
      "metadata": {
        "id": "21pV5vEMa1Lv"
      },
      "outputs": [],
      "source": [
        "# float() 형변환\n",
        "x = str(\"text\")\n",
        "y = str(100)\n",
        "z = str(3.14)"
      ]
    }
  ],
  "metadata": {
    "kernelspec": {
      "display_name": "Python 3",
      "language": "python",
      "name": "python3"
    },
    "language_info": {
      "codemirror_mode": {
        "name": "ipython",
        "version": 3
      },
      "file_extension": ".py",
      "mimetype": "text/x-python",
      "name": "python",
      "nbconvert_exporter": "python",
      "pygments_lexer": "ipython3",
      "version": "3.8.5"
    },
    "toc": {
      "base_numbering": 1,
      "nav_menu": {},
      "number_sections": false,
      "sideBar": true,
      "skip_h1_title": false,
      "title_cell": "Table of Contents",
      "title_sidebar": "Contents",
      "toc_cell": false,
      "toc_position": {},
      "toc_section_display": true,
      "toc_window_display": true
    },
    "colab": {
      "provenance": [],
      "include_colab_link": true
    }
  },
  "nbformat": 4,
  "nbformat_minor": 0
}